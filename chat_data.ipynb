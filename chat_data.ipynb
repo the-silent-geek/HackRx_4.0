{
 "cells": [
  {
   "cell_type": "code",
   "execution_count": null,
   "id": "bea0a93a",
   "metadata": {},
   "outputs": [],
   "source": [
    "import random\n",
    "import json\n",
    "import torch\n",
    "%run Tokenization_and_stemming.ipynb import tokenize, stem, bag_of_words\n",
    "%run NN_model1.ipynb import NeuralNet\n",
    "\n",
    "FILE = \"data.pth\"\n",
    "data = torch.load(FILE)    \n",
    "\n",
    "input_size = data[\"input_size\"]\n",
    "hidden_size = data[\"hidden_size\"]\n",
    "output_size = data[\"output_size\"]\n",
    "all_words = data[\"all_words\"]\n",
    "tags = data[\"tags\"]\n",
    "model_state = data[\"model_state\"]\n",
    "\n",
    "with open('intents.json', 'r') as f:\n",
    "    intents = json.load(f)\n",
    "\n",
    "device = torch.device('cpu')\n",
    "model = NeuralNet(input_size,hidden_size,output_size).to(device)\n",
    "model.load_state_dict(model_state)\n",
    "model.eval()\n",
    "\n",
    "bot_name = \"San\"\n",
    "\n",
    "def get_response(msg):\n",
    "     \n",
    "    sentence = tokenize(msg)\n",
    "    X = bag_of_words(sentence, all_words)\n",
    "    X = X.reshape(1, X.shape[0])\n",
    "    X = torch.from_numpy(X)\n",
    "\n",
    "    output = model(X)\n",
    "    _, predicted = torch.max(output, dim=1)\n",
    "    tag = tags[predicted.item()]\n",
    "\n",
    "    probs = torch.softmax(output, dim=1)\n",
    "    prob = probs[0][predicted.item()]\n",
    "\n",
    "    if prob.item() > 0.75:\n",
    "       for intent in intents['intents']:\n",
    "           if tag == intent['tag']:\n",
    "               print(f\"{bot_name}: {random.choice(intent['responses'])}\")\n",
    "    else:\n",
    "        print(f\"{bot_name}: Please consult with our consultants. Click at the Help button above to book an appointment.\")\n",
    "\n",
    "if __name__ == \"__main__\":\n",
    "    print(\"How can I help you? type 'quit' to exit\")\n",
    "    while True:\n",
    "        sentence=input(\"You: \")\n",
    "        if sentence == \"quit\":\n",
    "            break\n",
    "        \n",
    "        final_response=get_response((sentence))\n",
    "        print(final_response)"
   ]
  },
  {
   "cell_type": "code",
   "execution_count": null,
   "id": "7950cd11",
   "metadata": {},
   "outputs": [],
   "source": []
  }
 ],
 "metadata": {
  "kernelspec": {
   "display_name": "Python 3 (ipykernel)",
   "language": "python",
   "name": "python3"
  },
  "language_info": {
   "codemirror_mode": {
    "name": "ipython",
    "version": 3
   },
   "file_extension": ".py",
   "mimetype": "text/x-python",
   "name": "python",
   "nbconvert_exporter": "python",
   "pygments_lexer": "ipython3",
   "version": "3.9.13"
  }
 },
 "nbformat": 4,
 "nbformat_minor": 5
}
